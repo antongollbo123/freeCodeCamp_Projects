{
 "cells": [
  {
   "cell_type": "code",
   "execution_count": 1,
   "metadata": {},
   "outputs": [
    {
     "name": "stderr",
     "output_type": "stream",
     "text": [
      "C:\\Users\\Anton\\Anaconda3\\lib\\site-packages\\statsmodels\\tools\\_testing.py:19: FutureWarning: pandas.util.testing is deprecated. Use the functions in the public API at pandas.testing instead.\n",
      "  import pandas.util.testing as tm\n"
     ]
    }
   ],
   "source": [
    "import numpy as np\n",
    "import pandas as pd\n",
    "import seaborn as sns\n",
    "import matplotlib.pyplot as plt\n",
    "import numpy as np\n"
   ]
  },
  {
   "cell_type": "code",
   "execution_count": 13,
   "metadata": {},
   "outputs": [],
   "source": [
    "import numpy as np\n",
    "\n",
    "def calculate(list):\n",
    "    if(len(list) == 9):\n",
    "        list1 = list[0:3]\n",
    "        list2 = list[3:6]\n",
    "        list3 = list[6:9]\n",
    "        matrix = np.matrix([list1,list2,list3])\n",
    "        \n",
    "        mean_cols = np.mean(matrix, 0)\n",
    "        mean_cols = mean_cols.tolist()\n",
    "        mean_rows = np.mean(matrix,1)\n",
    "        mean_rows = mean_rows.flatten().tolist()\n",
    "        mean_matrix = np.mean(matrix)\n",
    "        \n",
    "        var_cols = np.var(matrix,0)\n",
    "        var_cols = var_cols.tolist()\n",
    "        var_rows = np.var(matrix,1)\n",
    "        var_rows = var_rows.flatten().tolist()\n",
    "        var_matrix = np.var(matrix)\n",
    "        \n",
    "        std_cols = np.std(matrix,0)\n",
    "        std_cols = std_cols.tolist()\n",
    "        std_rows = np.std(matrix,1)\n",
    "        std_rows = std_rows.flatten().tolist()\n",
    "        std_matrix = np.std(matrix)\n",
    "        \n",
    "        max_cols = np.max(matrix,0)\n",
    "        max_cols = max_cols.tolist()\n",
    "        max_rows = np.max(matrix,1)\n",
    "        max_rows = max_rows.flatten().tolist()\n",
    "        max_matrix = np.max(matrix)\n",
    "        \n",
    "        min_cols = np.min(matrix,0)\n",
    "        min_cols = min_cols.tolist()\n",
    "        min_rows = np.min(matrix,1)\n",
    "        min_rows = min_rows.flatten().tolist()\n",
    "        min_matrix = np.min(matrix)\n",
    "        \n",
    "        sum_cols = np.sum(matrix,0)\n",
    "        sum_cols = sum_cols.tolist()\n",
    "        sum_rows = np.sum(matrix,1)\n",
    "        sum_rows = sum_rows.flatten().tolist()\n",
    "        sum_matrix = np.sum(matrix)\n",
    "        \n",
    "        \n",
    "\n",
    "        calculations = {\n",
    "            \"mean\": [mean_cols[0],mean_rows[0],mean_matrix],\n",
    "            'variance': [var_cols[0], var_rows[0], var_matrix],\n",
    "            'standard deviation': [std_cols[0], std_rows[0], std_matrix],\n",
    "            'max': [max_cols[0], max_rows[0], max_matrix],\n",
    "            'min': [min_cols[0], min_rows[0], min_matrix],\n",
    "            'sum': [sum_cols[0], sum_rows[0], sum_matrix]\n",
    "\n",
    "        }\n",
    "        \n",
    "    elif(len(list) != 9):\n",
    "        raise ValueError(\"List must contain nine numbers.\")\n",
    "    return calculations\n",
    "expected = {'mean': [[3.6666666666666665, 5.0, 3.0], [3.3333333333333335, 4.0, 4.333333333333333], 3.888888888888889], 'variance': [[9.555555555555557, 0.6666666666666666, 8.666666666666666], [3.555555555555556, 10.666666666666666, 6.222222222222221], 6.987654320987654], 'standard deviation': [[3.091206165165235, 0.816496580927726, 2.943920288775949], [1.8856180831641267, 3.265986323710904, 2.494438257849294], 2.6434171674156266]}\n",
    "answer = calculate([2,6,2,8,4,0,1,5,7])"
   ]
  },
  {
   "cell_type": "code",
   "execution_count": 12,
   "metadata": {},
   "outputs": [
    {
     "name": "stdout",
     "output_type": "stream",
     "text": [
      "mean  was correctly compared\n",
      "variance  was correctly compared\n",
      "standard deviation  was correctly compared\n"
     ]
    }
   ],
   "source": [
    "list_of_vals = [\"mean\", \"variance\", \"standard deviation\"]\n",
    "\n",
    "for i in list_of_vals:\n",
    "    if expected[i] == answer[i]:\n",
    "        print(i, \" was correctly compared\")\n",
    "    else:\n",
    "        print(\"error at: \", i)"
   ]
  }
 ],
 "metadata": {
  "kernelspec": {
   "display_name": "Python 3",
   "language": "python",
   "name": "python3"
  },
  "language_info": {
   "codemirror_mode": {
    "name": "ipython",
    "version": 3
   },
   "file_extension": ".py",
   "mimetype": "text/x-python",
   "name": "python",
   "nbconvert_exporter": "python",
   "pygments_lexer": "ipython3",
   "version": "3.7.4"
  }
 },
 "nbformat": 4,
 "nbformat_minor": 2
}
