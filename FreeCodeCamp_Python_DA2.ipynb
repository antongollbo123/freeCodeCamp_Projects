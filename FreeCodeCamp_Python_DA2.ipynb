{
 "cells": [
  {
   "cell_type": "code",
   "execution_count": 2,
   "metadata": {},
   "outputs": [
    {
     "name": "stderr",
     "output_type": "stream",
     "text": [
      "C:\\Users\\Anton\\Anaconda3\\lib\\site-packages\\statsmodels\\tools\\_testing.py:19: FutureWarning: pandas.util.testing is deprecated. Use the functions in the public API at pandas.testing instead.\n",
      "  import pandas.util.testing as tm\n"
     ]
    }
   ],
   "source": [
    "import numpy as np\n",
    "import pandas as pd\n",
    "import seaborn as sns\n",
    "import matplotlib.pyplot as plt\n",
    "import numpy as np"
   ]
  },
  {
   "cell_type": "code",
   "execution_count": 55,
   "metadata": {},
   "outputs": [],
   "source": [
    "df = pd.read_csv(\"data/demographic_data.csv\")\n",
    "\n",
    "# How many of each race are represented in this dataset? This should be a Pandas series with race names as the index labels.\n",
    "race_count = df[\"race\"].value_counts()\n",
    "\n",
    "# What is the average age of men?\n",
    "age_sex = df[[\"sex\", \"age\"]]\n",
    "males = age_sex[(age_sex[\"sex\"]==\"Male\")]\n",
    "average_age_men = round(np.mean(males.age),1)\n",
    "\n",
    "# What is the percentage of people who have a Bachelor's degree?\n",
    "#no_of_bachelors = df[(df[\"education\"] == (\"Bachelors\" or \"Masters\" or \"Postdoc\"))]\n",
    "no_of_bachelors = df[(df[\"education\"] == \"Bachelors\")]\n",
    "percentage_of_bachelors = round(no_of_bachelors.count()[0] / df.shape[0], 3)*100\n",
    "percentage_bachelors = round(percentage_of_bachelors,1)\n",
    "\n",
    "\n",
    "# What percentage of people with advanced education (`Bachelors`, `Masters`, or `Doctorate`) make more than 50K?\n",
    "# What percentage of people without advanced education make more than 50K?\n",
    "#WITH HIGHER EDUCATION\n",
    "no_of_advanced_education = df[(df[\"education\"] == \"Bachelors\")]\n",
    "no_of_advanced_education = no_of_advanced_education.append(df[(df[\"education\"] == \"Masters\")])\n",
    "no_of_advanced_education = no_of_advanced_education.append(df[(df[\"education\"] == \"Doctorate\")])\n",
    "higher_education = no_of_advanced_education\n",
    "\n",
    "no_of_advanced_education_salary = no_of_advanced_education[[\"education\", \"salary\"]]\n",
    "no_of_advanced_education_salary = no_of_advanced_education_salary[(no_of_advanced_education_salary[\"salary\"] == \">50K\")]\n",
    "higher_education_rich = round(no_of_advanced_education_salary.shape[0] / no_of_advanced_education.shape[0],3)*100\n",
    "\n",
    "#WITHOUT HIGHER EDUCATION\n",
    "no_of_lower_education = df.drop(df[(df.education == \"Bachelors\") | (df.education == \"Masters\") | (df.education == \"Doctorate\")].index)\n",
    "lower_education = no_of_lower_education\n",
    "no_of_lower_education_salary = no_of_lower_education[(no_of_lower_education[\"salary\"] == \">50K\")]\n",
    "lower_education_rich = no_of_lower_education_salary\n",
    "\n",
    "\n",
    "# What is the minimum number of hours a person works per week (hours-per-week feature)?\n",
    "lowest_hour_workers = df[(df[\"hours-per-week\"] == 1)]\n",
    "num_min_workers = lowest_hour_workers\n",
    "# What percentage of the people who work the minimum number of hours per week have a salary of >50K?\n",
    "lhw_salary = lowest_hour_workers[(lowest_hour_workers[\"salary\"] == \">50K\")]\n",
    "rich_percentage = round(lhw_salary.shape[0] / lowest_hour_workers.shape[0],1)*100\n",
    "\n",
    "# What country has the highest percentage of people that earn >50K?\n",
    "high_income = df[(df[\"salary\"] == \">50K\")]\n",
    "high_income = high_income[[\"native-country\", \"salary\"]]\n",
    "values = high_income[\"native-country\"].value_counts() / df[\"native-country\"].value_counts()\n",
    "highest_earning_country_percentage = np.max(values)\n",
    "highest_earning_country = values.idxmax()\n",
    "\n",
    "# Identify the most popular occupation for those who earn >50K in India.\n",
    "india = df[(df[\"native-country\"] == \"India\")]\n",
    "india_salary = india[(india[\"salary\"] == \">50K\")]\n",
    "top_IN_occupation = np.argmax(india_salary[\"occupation\"].value_counts())\n",
    "\n"
   ]
  }
 ],
 "metadata": {
  "kernelspec": {
   "display_name": "Python 3",
   "language": "python",
   "name": "python3"
  },
  "language_info": {
   "codemirror_mode": {
    "name": "ipython",
    "version": 3
   },
   "file_extension": ".py",
   "mimetype": "text/x-python",
   "name": "python",
   "nbconvert_exporter": "python",
   "pygments_lexer": "ipython3",
   "version": "3.7.4"
  }
 },
 "nbformat": 4,
 "nbformat_minor": 2
}
